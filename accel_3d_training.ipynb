{
 "cells": [
  {
   "cell_type": "markdown",
   "source": [
    "## Experiment: Using 3D measurements\n",
    "\n",
    "**Strategy:**  The previous notebook only used magnitude of acceleration and actually did quite well (in my opinion).  But I believe that there may be even richer information in the 3D data.\n",
    "\n",
    "Steps:\n",
    "\n",
    "* Calculate acceleration-magnitude vector as in experiment 1.  Put this aside.\n",
    "* For each Nx3 sample, calculate the _median_ value in each of x, y, and z dimensions.  This will estimate the direction of gravity if the person stopped walking.\n",
    "* Calculation rotation matrix to rotate gravity vector towards -z (0,0,-1).  Rotate all vectors in sample with the rotation matrix\n",
    "* For all points, calculate latitude and longitude of the vector projected on the unit sphere\n",
    "* For all N latitudes, compute N-1 latitude differences/rotations, compute periodogram\n",
    "* For all N longitudes, compute N-1 longitude differences/rotations, compute periodogram\n",
    "* Concatenate magnitude, d_latitude, d_longitude periodograms\n",
    "* Use same L2-based KNN as in experiment #1"
   ],
   "metadata": {
    "collapsed": false,
    "pycharm": {
     "name": "#%% md\n"
    }
   }
  },
  {
   "cell_type": "code",
   "execution_count": 3,
   "metadata": {},
   "outputs": [],
   "source": [
    "import os\n",
    "import sys\n",
    "\n",
    "import os\n",
    "import numpy as np\n",
    "import pandas as pd\n",
    "import matplotlib.pyplot as plt\n",
    "import scipy\n",
    "import seaborn as sns\n",
    "import json\n",
    "import sklearn\n",
    "import time\n",
    "from accel_utils import AccelUtils\n",
    "from train_utils import TrainUtils\n",
    "\n",
    "from sklearn.neighbors import KNeighborsClassifier\n",
    "from sklearn.preprocessing import StandardScaler\n",
    "from sklearn.model_selection import StratifiedKFold\n",
    "from sklearn.neighbors import DistanceMetric"
   ]
  },
  {
   "cell_type": "code",
   "execution_count": 4,
   "metadata": {},
   "outputs": [],
   "source": [
    "%load_ext autoreload\n",
    "%autoreload 2"
   ]
  },
  {
   "cell_type": "code",
   "execution_count": 5,
   "metadata": {},
   "outputs": [
    {
     "name": "stdout",
     "output_type": "stream",
     "text": [
      "Params:\n",
      "{\n",
      "  \"data_dir\": \"./user_data\",\n",
      "  \"filt_avg_power\": 2.0,\n",
      "  \"filt_dc_ratio\": 0.7,\n",
      "  \"filt_power_ratio\": 0.5,\n",
      "  \"filt_min_samples_per_subj\": 8,\n",
      "  \"max_dt\": 0.035,\n",
      "  \"filt_min_timesteps_per_sample_ratio\": 0.9,\n",
      "  \"resample_dt\": 0.03,\n",
      "  \"window_size_sec\": 4.3,\n",
      "  \"num_subj\": 22,\n",
      "  \"max_resample_pts\": 139,\n",
      "  \"min_timesteps_per_sample\": 125\n",
      "}\n",
      "Number of files/subjects: 22\n",
      "Each sample will be 139 time steps\n",
      "Keeping 16 subjects [0, 3, 5, 6, 7, 8, 9, 10, 11, 12, 13, 14, 16, 17, 19, 21]\n"
     ]
    }
   ],
   "source": [
    "params = AccelUtils.read_params_file('params.json')\n",
    "num_subj = params['num_subj']\n",
    "max_resample_pts = params['max_resample_pts']\n",
    "min_timesteps_per_sample = int(params['max_resample_pts'] * params['filt_min_timesteps_per_sample_ratio'])\n",
    "per_user_all_data = AccelUtils.read_all_user_data(params['data_dir'], num_subj)\n",
    "valid_windows_by_user = {}\n",
    "for i in range(num_subj):\n",
    "    df = per_user_all_data[i]\n",
    "    valid_windows_by_user[i] = AccelUtils.extract_valid_time_windows_for_subj(\n",
    "        df,\n",
    "        params['window_size_sec'],\n",
    "        min_timesteps_per_sample)\n",
    "\n",
    "min_samples = params['filt_min_samples_per_subj']\n",
    "counts = [len(valid_windows_by_user[i]) for i in range(num_subj)]\n",
    "use_subjs = [i for i in range(num_subj) if counts[i] >= min_samples]\n",
    "print(f'Keeping {len(use_subjs)} subjects {use_subjs}')"
   ]
  },
  {
   "cell_type": "markdown",
   "metadata": {},
   "source": [
    "### Compute extra two feature sets for each window sample"
   ]
  },
  {
   "cell_type": "code",
   "execution_count": 7,
   "outputs": [
    {
     "data": {
      "text/plain": "         t   x_acc   y_acc   z_acc    mag_acc\n700  21.51 -4.2495  12.149 -1.0760  12.915658\n701  21.54 -3.6366  13.566 -1.1169  14.089311\n702  21.57 -3.7865  13.866 -1.8796  14.496083\n703  21.60 -3.3370  12.790 -3.5958  13.698520\n704  21.63 -2.9829  10.038 -4.0589  11.230931",
      "text/html": "<div>\n<style scoped>\n    .dataframe tbody tr th:only-of-type {\n        vertical-align: middle;\n    }\n\n    .dataframe tbody tr th {\n        vertical-align: top;\n    }\n\n    .dataframe thead th {\n        text-align: right;\n    }\n</style>\n<table border=\"1\" class=\"dataframe\">\n  <thead>\n    <tr style=\"text-align: right;\">\n      <th></th>\n      <th>t</th>\n      <th>x_acc</th>\n      <th>y_acc</th>\n      <th>z_acc</th>\n      <th>mag_acc</th>\n    </tr>\n  </thead>\n  <tbody>\n    <tr>\n      <th>700</th>\n      <td>21.51</td>\n      <td>-4.2495</td>\n      <td>12.149</td>\n      <td>-1.0760</td>\n      <td>12.915658</td>\n    </tr>\n    <tr>\n      <th>701</th>\n      <td>21.54</td>\n      <td>-3.6366</td>\n      <td>13.566</td>\n      <td>-1.1169</td>\n      <td>14.089311</td>\n    </tr>\n    <tr>\n      <th>702</th>\n      <td>21.57</td>\n      <td>-3.7865</td>\n      <td>13.866</td>\n      <td>-1.8796</td>\n      <td>14.496083</td>\n    </tr>\n    <tr>\n      <th>703</th>\n      <td>21.60</td>\n      <td>-3.3370</td>\n      <td>12.790</td>\n      <td>-3.5958</td>\n      <td>13.698520</td>\n    </tr>\n    <tr>\n      <th>704</th>\n      <td>21.63</td>\n      <td>-2.9829</td>\n      <td>10.038</td>\n      <td>-4.0589</td>\n      <td>11.230931</td>\n    </tr>\n  </tbody>\n</table>\n</div>"
     },
     "execution_count": 7,
     "metadata": {},
     "output_type": "execute_result"
    }
   ],
   "source": [
    "valid_windows_by_user[0][0].head()"
   ],
   "metadata": {
    "collapsed": false,
    "pycharm": {
     "name": "#%%\n"
    }
   }
  },
  {
   "cell_type": "code",
   "source": [
    "def rotation_matrix_a_onto_b(a, b):\n",
    "    # Formula from https://math.stackexchange.com/a/476311\n",
    "    v = np.cross(a, b)\n",
    "    s = np.linalg.norm(v)\n",
    "    c = np.dot(a, b)\n",
    "\n",
    "    vx = np.array([\n",
    "        [    0, -v[2],  v[1]],\n",
    "        [ v[2],     0, -v[0]],\n",
    "        [-v[1],  v[0],     0]\n",
    "    ])\n",
    "\n",
    "    rotation_matrix = np.eye(3) + vx + np.matmul(vx, vx) * (1 / (1+c))\n",
    "    return rotation_matrix\n",
    "\n",
    "def estimate_gravity_and_rotation_matrix(df_subj):\n",
    "    grav_est = np.array([df_subj[col].mean() for col in ['x_acc', 'y_acc', 'z_acc']])\n",
    "\n",
    "    grav_est = grav_est / np.linalg.norm(grav_est)\n",
    "    grav_targ = np.array([0, 0, -1])\n",
    "\n",
    "    rot_matrix = rotation_matrix_a_onto_b(grav_est, grav_targ)\n",
    "    return rot_matrix, grav_est\n"
   ],
   "metadata": {
    "collapsed": false,
    "pycharm": {
     "name": "#%%\n"
    }
   },
   "execution_count": 28,
   "outputs": []
  },
  {
   "cell_type": "code",
   "execution_count": 29,
   "outputs": [
    {
     "name": "stdout",
     "output_type": "stream",
     "text": [
      "Testing rotation...\n",
      "  Rotation matrix:\n",
      " [[ 0.92429324  0.23847764 -0.29801079]\n",
      " [ 0.23847764  0.24879124  0.93873923]\n",
      " [ 0.29801079 -0.93873923  0.17308447]]\n",
      "  Gravity estimate: [-0.29801079  0.93873923 -0.17308447]\n",
      "  Rotated grav est: ['-0.000', '0.000', '-1.000']\n"
     ]
    }
   ],
   "source": [
    "rotm, grav_est = estimate_gravity_and_rotation_matrix(valid_windows_by_user[0][0])\n",
    "print('Testing rotation...')\n",
    "print('  Rotation matrix:\\n', rotm)\n",
    "print('  Gravity estimate:', grav_est)\n",
    "print('  Rotated grav est:', [f'{v:.3f}' for v in rotm.dot(grav_est).tolist()])"
   ],
   "metadata": {
    "collapsed": false,
    "pycharm": {
     "name": "#%%\n"
    }
   }
  },
  {
   "cell_type": "code",
   "execution_count": 40,
   "outputs": [
    {
     "name": "stdout",
     "output_type": "stream",
     "text": [
      "[[-7.09859666e-01  9.99070615e-01 -1.28573786e+01]\n",
      " [ 2.06751114e-01  1.45937631e+00 -1.40120004e+01]\n",
      " [ 3.67035677e-01  7.82289475e-01 -1.44703055e+01]\n",
      " [ 1.03734966e+00 -9.89278459e-01 -1.36233139e+01]\n",
      " [ 8.46360228e-01 -2.02423715e+00 -1.10145333e+01]\n",
      " [ 7.92966036e-02 -2.53271902e+00 -1.02851863e+01]\n",
      " [-1.64343292e+00 -3.01467214e+00 -1.15034567e+01]\n",
      " [-3.26803971e+00 -1.96895946e+00 -1.15519986e+01]\n",
      " [-2.41249588e+00 -1.05975783e+00 -9.26549625e+00]\n",
      " [-3.69373374e-01 -1.06071082e+00 -7.23777451e+00]\n",
      " [ 1.17992789e+00 -7.19624638e-01 -6.42015345e+00]\n",
      " [ 8.25708223e-01  1.38698605e+00 -5.86469269e+00]\n",
      " [-1.03050248e+00  3.99784909e+00 -5.12199963e+00]\n",
      " [-2.38975432e-01  1.12742044e+00 -5.18833967e+00]\n",
      " [ 5.00067993e-01 -7.36912283e-01 -7.49695132e+00]\n",
      " [-2.62282487e-01 -5.53578593e-01 -9.80386645e+00]\n",
      " [-2.11995606e+00 -1.23977230e+00 -1.17199817e+01]\n",
      " [-4.00642220e+00  1.03056452e+00 -1.33530658e+01]\n",
      " [-2.74017052e+00  1.67710410e+00 -1.40499302e+01]\n",
      " [-9.72680928e-01 -7.85391932e-01 -1.33107906e+01]\n",
      " [ 1.52420273e+00 -1.06681168e+00 -1.17348086e+01]\n",
      " [ 4.13283926e+00 -1.00709070e+00 -1.17380475e+01]\n",
      " [ 5.21731127e+00  2.19021133e-01 -1.18779498e+01]\n",
      " [ 3.86410019e+00  2.40095106e+00 -1.14836609e+01]\n",
      " [ 6.54702566e-01  3.11119616e+00 -9.13654132e+00]\n",
      " [-6.82214492e-01  2.21025210e-01 -6.15059390e+00]\n",
      " [-1.60981481e+00 -1.19504423e+00 -5.33963131e+00]\n",
      " [-2.34594343e+00 -7.74283090e-01 -4.71865857e+00]\n",
      " [-2.53584754e+00  6.79131075e-01 -4.74442843e+00]\n",
      " [-1.83775831e+00  1.65162706e+00 -5.90531829e+00]\n",
      " [-5.39244409e-01  1.18716693e+00 -7.36715885e+00]\n",
      " [ 1.70839549e-01  1.34266259e+00 -9.19128087e+00]\n",
      " [-7.11164167e-01  2.25934633e+00 -1.16683003e+01]\n",
      " [-3.46703804e-01  1.96922497e+00 -1.34805863e+01]\n",
      " [-3.02899584e-01  1.05517611e+00 -1.37990571e+01]\n",
      " [-3.47044132e-01 -5.41221422e-01 -1.40298957e+01]\n",
      " [ 8.33206522e-02 -1.59071608e+00 -1.22396996e+01]\n",
      " [ 6.49185070e-01 -1.41512357e+00 -1.02505083e+01]\n",
      " [ 1.61521133e-01 -1.50716746e+00 -1.03552196e+01]\n",
      " [-1.90412266e+00 -2.31471611e+00 -1.24432552e+01]\n",
      " [-3.08309508e+00 -1.95270308e+00 -1.30526820e+01]\n",
      " [-1.32313167e+00 -1.79782848e+00 -9.99694167e+00]\n",
      " [ 6.91205069e-01 -1.42693316e+00 -7.67483803e+00]\n",
      " [ 9.62882742e-01  8.43257974e-01 -6.22066133e+00]\n",
      " [-7.03079029e-01  4.51122810e+00 -4.90276157e+00]\n",
      " [-4.02891628e-01  1.80578058e+00 -4.03457973e+00]\n",
      " [ 5.77788372e-01 -5.43898214e-01 -5.10464181e+00]\n",
      " [ 3.86012823e-01 -6.67020290e-01 -6.97061888e+00]\n",
      " [-4.34060384e-01 -7.54210912e-01 -9.24778098e+00]\n",
      " [-1.98787237e+00 -5.57400803e-01 -1.12589729e+01]\n",
      " [-3.78891824e+00  2.00406901e+00 -1.27500557e+01]\n",
      " [-1.86417437e+00  1.07180252e+00 -1.50030045e+01]\n",
      " [-8.23137717e-01 -6.52772913e-01 -1.62118549e+01]\n",
      " [ 1.88399602e+00 -4.02166905e-01 -1.33825927e+01]\n",
      " [ 4.44964937e+00 -6.11247968e-01 -1.29460141e+01]\n",
      " [ 4.68659904e+00  1.04690407e+00 -1.24026887e+01]\n",
      " [ 2.68094205e+00  2.42904969e+00 -1.07615925e+01]\n",
      " [ 9.22415351e-01 -9.20554003e-03 -8.74930395e+00]\n",
      " [-5.15536318e-01 -1.21319497e+00 -6.66242124e+00]\n",
      " [-2.05721048e+00  3.97321295e-02 -5.48875933e+00]\n",
      " [-2.54664285e+00  1.37602413e+00 -4.76562021e+00]\n",
      " [-1.36992741e+00  7.12033018e-01 -4.41054274e+00]\n",
      " [-3.78000817e-01  2.80792569e-01 -5.08531643e+00]\n",
      " [-1.33922191e-01  7.18219880e-01 -6.32928769e+00]\n",
      " [-7.26298809e-01  2.37230778e+00 -7.50687351e+00]\n",
      " [-1.11423241e+00  2.60195130e+00 -9.18399549e+00]\n",
      " [-4.52643128e-01  1.52422506e+00 -1.10134222e+01]\n",
      " [ 1.29532520e-01  1.10432460e+00 -1.28484703e+01]\n",
      " [-6.16799070e-01 -7.14326570e-01 -1.55227464e+01]\n",
      " [-3.82666837e-01 -1.81636343e+00 -1.55955481e+01]\n",
      " [ 4.92715637e-01 -2.01199797e+00 -1.32636045e+01]\n",
      " [-1.17360770e-01 -2.05098278e+00 -1.25287770e+01]\n",
      " [-2.23433969e+00 -2.06117245e+00 -1.36786035e+01]\n",
      " [-3.55779091e+00 -7.43796221e-01 -1.31873722e+01]\n",
      " [-1.32989245e+00 -8.68794470e-01 -9.30268792e+00]\n",
      " [ 9.19270826e-01 -4.55638239e-01 -6.09714935e+00]\n",
      " [ 1.07824162e+00  3.46397694e-01 -4.90112977e+00]\n",
      " [ 3.48270082e-02  1.35584988e+00 -3.75244889e+00]\n",
      " [ 1.31870024e-01  1.05899831e+00 -3.31314849e+00]\n",
      " [ 7.55768330e-01  2.01672018e-01 -5.06486976e+00]\n",
      " [ 3.49063427e-01 -3.83845240e-01 -7.31113958e+00]\n",
      " [-5.27397087e-01 -7.21435569e-01 -9.34994406e+00]\n",
      " [-2.06580985e+00 -7.89789720e-01 -1.14708557e+01]\n",
      " [-4.18507995e+00  9.80339583e-01 -1.27587596e+01]\n",
      " [-3.71582034e+00  5.72774722e-01 -1.46192237e+01]\n",
      " [-2.34605023e+00 -1.17727997e+00 -1.64618427e+01]\n",
      " [ 1.17743263e-01 -9.59085345e-01 -1.42686409e+01]\n",
      " [ 2.81906306e+00 -6.16162143e-01 -1.10840284e+01]\n",
      " [ 4.70229351e+00  1.49088475e+00 -1.06128399e+01]\n",
      " [ 4.47131849e+00  2.96233275e+00 -1.05712937e+01]\n",
      " [ 3.19700389e+00  1.72864902e+00 -9.37940280e+00]\n",
      " [ 1.11773188e+00 -4.78075055e-01 -7.83730627e+00]\n",
      " [-1.50783263e-01 -6.12011524e-01 -5.98965227e+00]\n",
      " [-1.34612307e+00 -3.52388505e-01 -5.04931646e+00]\n",
      " [-2.72025004e+00  2.67180970e-01 -5.03105270e+00]\n",
      " [-2.16262748e+00  1.01076896e+00 -5.66437162e+00]\n",
      " [-4.21033607e-01  1.16548182e+00 -6.57386552e+00]\n",
      " [ 3.56176572e-01  1.67422922e+00 -7.83756136e+00]\n",
      " [-1.33773307e-02  2.52090545e+00 -9.28864029e+00]\n",
      " [-1.09824049e+00  1.89345139e+00 -1.05863603e+01]\n",
      " [ 1.17440013e-01  1.31948101e+00 -1.20690790e+01]\n",
      " [ 1.46924845e+00  1.43161479e+00 -1.36549571e+01]\n",
      " [ 1.95057154e+00 -3.96297657e-01 -1.48735957e+01]\n",
      " [ 1.91186024e+00 -1.71487260e+00 -1.39268809e+01]\n",
      " [ 1.01290507e+00 -1.81424968e+00 -1.23386920e+01]\n",
      " [-1.45720367e-01 -2.23364955e+00 -1.22946428e+01]\n",
      " [-2.46645424e+00 -2.24739637e+00 -1.35408496e+01]\n",
      " [-3.34150846e+00 -2.11356903e+00 -1.26251382e+01]\n",
      " [-1.36502291e+00 -2.10944963e+00 -9.48073733e+00]\n",
      " [ 6.81057478e-01 -1.72525187e+00 -7.17612557e+00]\n",
      " [ 1.63226822e+00 -1.02633150e+00 -6.02369929e+00]\n",
      " [ 1.34780362e+00  7.19985726e-02 -5.15198068e+00]\n",
      " [ 6.87779041e-01  1.41158113e+00 -4.26826849e+00]\n",
      " [ 1.15306316e+00  1.39238538e+00 -5.33034819e+00]\n",
      " [ 1.85284761e+00  2.09555753e-01 -7.46831649e+00]\n",
      " [ 1.25365778e+00 -2.19288122e-01 -9.24312884e+00]\n",
      " [-3.23370473e-01 -4.06275434e-01 -1.16520052e+01]\n",
      " [-2.28194796e+00 -2.49140737e-01 -1.40669285e+01]\n",
      " [-3.25992775e+00  1.24869292e-01 -1.58120094e+01]\n",
      " [-1.70129693e+00 -3.60493374e-01 -1.51388250e+01]\n",
      " [ 2.05627320e+00 -1.03736153e+00 -1.12147346e+01]\n",
      " [ 5.56409993e+00 -1.34873130e+00 -9.23093322e+00]\n",
      " [ 8.11321559e+00  6.93128373e-01 -1.04072941e+01]\n",
      " [ 7.81174377e+00  2.18054084e+00 -1.14393583e+01]\n",
      " [ 3.63735505e+00  3.00055733e+00 -1.04832732e+01]\n",
      " [-2.06465358e-01  4.38542264e-01 -8.71427513e+00]\n",
      " [-2.08856328e+00 -2.65243434e-01 -6.56419345e+00]\n",
      " [-3.06825848e+00  1.94089136e-01 -4.76162414e+00]\n",
      " [-2.12574017e+00 -1.99854066e-01 -4.30733405e+00]\n",
      " [-8.70548714e-01  5.73026602e-01 -4.84281713e+00]\n",
      " [ 3.54168573e-01  9.40191890e-01 -5.82720638e+00]\n",
      " [ 1.20766587e+00  8.66951163e-01 -7.50156022e+00]\n",
      " [ 7.76350486e-01  1.86993828e+00 -9.43460469e+00]\n",
      " [ 5.33461216e-01  1.72981696e+00 -1.17683568e+01]\n",
      " [ 1.78872265e+00  1.10278162e+00 -1.41541622e+01]\n",
      " [ 1.74046429e+00 -9.44745474e-01 -1.55655396e+01]\n",
      " [ 5.12945107e-01 -2.32078595e+00 -1.39933060e+01]\n",
      " [-1.22838721e-01 -1.41660206e+00 -1.10997092e+01]\n",
      " [ 1.88278749e-01 -1.49991470e+00 -1.14496817e+01]\n",
      " [-5.09444529e-01 -2.35326619e+00 -1.37673624e+01]\n",
      " [-6.28392256e-02 -4.10008076e+00 -1.37546717e+01]\n",
      " [ 8.03236541e-01 -4.17749013e+00 -9.79725650e+00]]\n",
      "[ 7.28306304e-14  3.56159546e-13 -1.40394176e+03]\n"
     ]
    },
    {
     "data": {
      "text/plain": "         t   x_acc   y_acc   z_acc    mag_acc     x_rot     y_rot      z_rot\n700  21.51 -4.2495  12.149 -1.0760  12.915658 -0.709860  0.999071 -12.857379\n701  21.54 -3.6366  13.566 -1.1169  14.089311  0.206751  1.459376 -14.012000\n702  21.57 -3.7865  13.866 -1.8796  14.496083  0.367036  0.782289 -14.470306\n703  21.60 -3.3370  12.790 -3.5958  13.698520  1.037350 -0.989278 -13.623314\n704  21.63 -2.9829  10.038 -4.0589  11.230931  0.846360 -2.024237 -11.014533",
      "text/html": "<div>\n<style scoped>\n    .dataframe tbody tr th:only-of-type {\n        vertical-align: middle;\n    }\n\n    .dataframe tbody tr th {\n        vertical-align: top;\n    }\n\n    .dataframe thead th {\n        text-align: right;\n    }\n</style>\n<table border=\"1\" class=\"dataframe\">\n  <thead>\n    <tr style=\"text-align: right;\">\n      <th></th>\n      <th>t</th>\n      <th>x_acc</th>\n      <th>y_acc</th>\n      <th>z_acc</th>\n      <th>mag_acc</th>\n      <th>x_rot</th>\n      <th>y_rot</th>\n      <th>z_rot</th>\n    </tr>\n  </thead>\n  <tbody>\n    <tr>\n      <th>700</th>\n      <td>21.51</td>\n      <td>-4.2495</td>\n      <td>12.149</td>\n      <td>-1.0760</td>\n      <td>12.915658</td>\n      <td>-0.709860</td>\n      <td>0.999071</td>\n      <td>-12.857379</td>\n    </tr>\n    <tr>\n      <th>701</th>\n      <td>21.54</td>\n      <td>-3.6366</td>\n      <td>13.566</td>\n      <td>-1.1169</td>\n      <td>14.089311</td>\n      <td>0.206751</td>\n      <td>1.459376</td>\n      <td>-14.012000</td>\n    </tr>\n    <tr>\n      <th>702</th>\n      <td>21.57</td>\n      <td>-3.7865</td>\n      <td>13.866</td>\n      <td>-1.8796</td>\n      <td>14.496083</td>\n      <td>0.367036</td>\n      <td>0.782289</td>\n      <td>-14.470306</td>\n    </tr>\n    <tr>\n      <th>703</th>\n      <td>21.60</td>\n      <td>-3.3370</td>\n      <td>12.790</td>\n      <td>-3.5958</td>\n      <td>13.698520</td>\n      <td>1.037350</td>\n      <td>-0.989278</td>\n      <td>-13.623314</td>\n    </tr>\n    <tr>\n      <th>704</th>\n      <td>21.63</td>\n      <td>-2.9829</td>\n      <td>10.038</td>\n      <td>-4.0589</td>\n      <td>11.230931</td>\n      <td>0.846360</td>\n      <td>-2.024237</td>\n      <td>-11.014533</td>\n    </tr>\n  </tbody>\n</table>\n</div>"
     },
     "execution_count": 40,
     "metadata": {},
     "output_type": "execute_result"
    }
   ],
   "source": [
    "def align_window_acc_to_gravity(subj_window_df):\n",
    "    rot_mtrx, _ = estimate_gravity_and_rotation_matrix(subj_window_df)\n",
    "    xyz_vals = subj_window_df[['x_acc', 'y_acc', 'z_acc']].values\n",
    "    rotated_vals = rot_mtrx.dot(xyz_vals.T).T\n",
    "    #print(xyz_vals)\n",
    "    print(rotated_vals)\n",
    "    print(np.sum(rotated_vals, axis=0))\n",
    "    subj_window_df['x_rot'] = rotated_vals[:, 0]\n",
    "    subj_window_df['y_rot'] = rotated_vals[:, 1]\n",
    "    subj_window_df['z_rot'] = rotated_vals[:, 2]\n",
    "\n",
    "align_window_acc_to_gravity(valid_windows_by_user[0][0])\n",
    "valid_windows_by_user[0][0].head()"
   ],
   "metadata": {
    "collapsed": false,
    "pycharm": {
     "name": "#%%\n"
    }
   }
  },
  {
   "cell_type": "code",
   "execution_count": 64,
   "metadata": {},
   "outputs": [
    {
     "name": "stdout",
     "output_type": "stream",
     "text": [
      "Total Row Count: 822\n"
     ]
    },
    {
     "data": {
      "text/plain": "<Figure size 432x288 with 1 Axes>",
      "image/png": "[encoded data removed]"
     },
     "metadata": {
      "needs_background": "light"
     },
     "output_type": "display_data"
    }
   ],
   "source": [
    "all_rows = []\n",
    "fig,ax = plt.subplots()\n",
    "for i_subj in use_subjs:\n",
    "    for i_win, window in enumerate(valid_windows_by_user[i_subj]):\n",
    "        fs, pow_norm = AccelUtils.compute_periodogram(\n",
    "            window,\n",
    "            params['resample_dt'],\n",
    "            max_resample_pts)\n",
    "\n",
    "        if len(pow_norm.tolist()) < max_resample_pts//2:\n",
    "            continue\n",
    "\n",
    "        all_rows.append(pow_norm.tolist() + [i_subj])\n",
    "        \n",
    "        # Display the first 6 periodograms for subj 0\n",
    "        if i_subj==0 and i_win < 6:\n",
    "            ax.plot(fs, pow_norm)\n",
    "            \n",
    "ax.set_xlabel('Frequency (Hz)')\n",
    "ax.set_ylabel('Sqrt(Power)')\n",
    "ax.set_title(f'Sample Spectral Density/Periodogram for Subj 1')\n",
    "ax.legend([f'Sample {i+1}' for i in range(6)])\n",
    "col_headers = [f'f{freq:.1f}' for freq in fs] + ['label']\n",
    "print('Total Row Count:', len(all_rows))"
   ]
  },
  {
   "cell_type": "markdown",
   "metadata": {},
   "source": [
    "That looks pretty consistent..."
   ]
  },
  {
   "cell_type": "markdown",
   "metadata": {},
   "source": [
    "### Some standard data cleaning\n",
    "Make sure labels are integers, remove any NA values"
   ]
  },
  {
   "cell_type": "code",
   "execution_count": 65,
   "metadata": {},
   "outputs": [
    {
     "name": "stdout",
     "output_type": "stream",
     "text": [
      "Total dataset size: (821, 54)\n"
     ]
    },
    {
     "data": {
      "text/plain": "           f0.0      f0.3      f0.6      f1.0      f1.3      f1.6      f1.9  \\\n0  9.329974e-17  0.011751  0.015216  0.006946  0.011603  0.020414  0.316335   \n1  5.734859e-18  0.013474  0.021621  0.021835  0.036426  0.048618  0.261210   \n2  3.112368e-17  0.006439  0.005662  0.019757  0.023905  0.041672  0.188669   \n3  9.287545e-17  0.004727  0.011481  0.012555  0.012698  0.040290  0.225607   \n4  9.640622e-17  0.007816  0.009553  0.015796  0.016530  0.042848  0.291812   \n\n       f2.2      f2.5      f2.9  ...     f14.0     f14.3     f14.6     f14.9  \\\n0  0.025533  0.017898  0.019702  ...  0.003602  0.006014  0.005403  0.004400   \n1  0.075006  0.061521  0.027660  ...  0.004654  0.002314  0.002058  0.001162   \n2  0.120842  0.035547  0.040071  ...  0.004728  0.005950  0.005806  0.005533   \n3  0.069966  0.052186  0.025233  ...  0.002156  0.004056  0.003663  0.001842   \n4  0.054968  0.019755  0.022763  ...  0.001659  0.004491  0.001305  0.004241   \n\n      f15.2     f15.6     f15.9     f16.2     f16.5  label  \n0  0.009112  0.001425  0.003394  0.007931  0.001247      0  \n1  0.001895  0.002662  0.004251  0.002553  0.001979      0  \n2  0.005666  0.005690  0.003975  0.004498  0.005709      0  \n3  0.004005  0.004266  0.001401  0.003761  0.002215      0  \n4  0.003968  0.002331  0.004048  0.002189  0.002704      0  \n\n[5 rows x 54 columns]",
      "text/html": "<div>\n<style scoped>\n    .dataframe tbody tr th:only-of-type {\n        vertical-align: middle;\n    }\n\n    .dataframe tbody tr th {\n        vertical-align: top;\n    }\n\n    .dataframe thead th {\n        text-align: right;\n    }\n</style>\n<table border=\"1\" class=\"dataframe\">\n  <thead>\n    <tr style=\"text-align: right;\">\n      <th></th>\n      <th>f0.0</th>\n      <th>f0.3</th>\n      <th>f0.6</th>\n      <th>f1.0</th>\n      <th>f1.3</th>\n      <th>f1.6</th>\n      <th>f1.9</th>\n      <th>f2.2</th>\n      <th>f2.5</th>\n      <th>f2.9</th>\n      <th>...</th>\n      <th>f14.0</th>\n      <th>f14.3</th>\n      <th>f14.6</th>\n      <th>f14.9</th>\n      <th>f15.2</th>\n      <th>f15.6</th>\n      <th>f15.9</th>\n      <th>f16.2</th>\n      <th>f16.5</th>\n      <th>label</th>\n    </tr>\n  </thead>\n  <tbody>\n    <tr>\n      <th>0</th>\n      <td>9.329974e-17</td>\n      <td>0.011751</td>\n      <td>0.015216</td>\n      <td>0.006946</td>\n      <td>0.011603</td>\n      <td>0.020414</td>\n      <td>0.316335</td>\n      <td>0.025533</td>\n      <td>0.017898</td>\n      <td>0.019702</td>\n      <td>...</td>\n      <td>0.003602</td>\n      <td>0.006014</td>\n      <td>0.005403</td>\n      <td>0.004400</td>\n      <td>0.009112</td>\n      <td>0.001425</td>\n      <td>0.003394</td>\n      <td>0.007931</td>\n      <td>0.001247</td>\n      <td>0</td>\n    </tr>\n    <tr>\n      <th>1</th>\n      <td>5.734859e-18</td>\n      <td>0.013474</td>\n      <td>0.021621</td>\n      <td>0.021835</td>\n      <td>0.036426</td>\n      <td>0.048618</td>\n      <td>0.261210</td>\n      <td>0.075006</td>\n      <td>0.061521</td>\n      <td>0.027660</td>\n      <td>...</td>\n      <td>0.004654</td>\n      <td>0.002314</td>\n      <td>0.002058</td>\n      <td>0.001162</td>\n      <td>0.001895</td>\n      <td>0.002662</td>\n      <td>0.004251</td>\n      <td>0.002553</td>\n      <td>0.001979</td>\n      <td>0</td>\n    </tr>\n    <tr>\n      <th>2</th>\n      <td>3.112368e-17</td>\n      <td>0.006439</td>\n      <td>0.005662</td>\n      <td>0.019757</td>\n      <td>0.023905</td>\n      <td>0.041672</td>\n      <td>0.188669</td>\n      <td>0.120842</td>\n      <td>0.035547</td>\n      <td>0.040071</td>\n      <td>...</td>\n      <td>0.004728</td>\n      <td>0.005950</td>\n      <td>0.005806</td>\n      <td>0.005533</td>\n      <td>0.005666</td>\n      <td>0.005690</td>\n      <td>0.003975</td>\n      <td>0.004498</td>\n      <td>0.005709</td>\n      <td>0</td>\n    </tr>\n    <tr>\n      <th>3</th>\n      <td>9.287545e-17</td>\n      <td>0.004727</td>\n      <td>0.011481</td>\n      <td>0.012555</td>\n      <td>0.012698</td>\n      <td>0.040290</td>\n      <td>0.225607</td>\n      <td>0.069966</td>\n      <td>0.052186</td>\n      <td>0.025233</td>\n      <td>...</td>\n      <td>0.002156</td>\n      <td>0.004056</td>\n      <td>0.003663</td>\n      <td>0.001842</td>\n      <td>0.004005</td>\n      <td>0.004266</td>\n      <td>0.001401</td>\n      <td>0.003761</td>\n      <td>0.002215</td>\n      <td>0</td>\n    </tr>\n    <tr>\n      <th>4</th>\n      <td>9.640622e-17</td>\n      <td>0.007816</td>\n      <td>0.009553</td>\n      <td>0.015796</td>\n      <td>0.016530</td>\n      <td>0.042848</td>\n      <td>0.291812</td>\n      <td>0.054968</td>\n      <td>0.019755</td>\n      <td>0.022763</td>\n      <td>...</td>\n      <td>0.001659</td>\n      <td>0.004491</td>\n      <td>0.001305</td>\n      <td>0.004241</td>\n      <td>0.003968</td>\n      <td>0.002331</td>\n      <td>0.004048</td>\n      <td>0.002189</td>\n      <td>0.002704</td>\n      <td>0</td>\n    </tr>\n  </tbody>\n</table>\n<p>5 rows × 54 columns</p>\n</div>"
     },
     "execution_count": 65,
     "metadata": {},
     "output_type": "execute_result"
    }
   ],
   "source": [
    "full_df = pd.DataFrame.from_records(all_rows, columns=col_headers)\n",
    "full_df.dropna(axis=0, inplace=True)\n",
    "full_df['label'] = full_df['label'].astype('int32')\n",
    "print('Total dataset size:', full_df.shape)\n",
    "full_df.head(5)"
   ]
  },
  {
   "cell_type": "markdown",
   "metadata": {},
   "source": [
    "------"
   ]
  },
  {
   "cell_type": "markdown",
   "metadata": {},
   "source": [
    "## Split the Data into Test and Train Sets\n",
    "We use sklearn's StratifiedKFold to make sure we get proportional representation of all classes in both test and train sets"
   ]
  },
  {
   "cell_type": "code",
   "execution_count": 66,
   "metadata": {},
   "outputs": [
    {
     "name": "stdout",
     "output_type": "stream",
     "text": [
      "Shapes: Train: X ~ (656, 53), y ~ (656,)  Test : X ~ (165, 53), y ~ (165,)\n",
      "Shapes: Train: X ~ (657, 53), y ~ (657,)  Test : X ~ (164, 53), y ~ (164,)\n",
      "Shapes: Train: X ~ (657, 53), y ~ (657,)  Test : X ~ (164, 53), y ~ (164,)\n",
      "Shapes: Train: X ~ (657, 53), y ~ (657,)  Test : X ~ (164, 53), y ~ (164,)\n",
      "Shapes: Train: X ~ (657, 53), y ~ (657,)  Test : X ~ (164, 53), y ~ (164,)\n"
     ]
    }
   ],
   "source": [
    "num_splits = 5\n",
    "for i in range(num_splits):\n",
    "    xt,yt,xs,ys = TrainUtils.get_skf_split(full_df, num_splits, i)\n",
    "    print(f'Shapes: '\n",
    "          f'Train: X ~ {xt.shape}, y ~ {yt.shape}  '\n",
    "          f'Test : X ~ {xs.shape}, y ~ {ys.shape}')"
   ]
  },
  {
   "cell_type": "markdown",
   "metadata": {},
   "source": [
    "### Normalize Input Features\n",
    "We use sklearn's standard scaler.\n",
    "\n",
    "NOTE: We switched to purely periodogram-based features, we probably don't want to normalize them..."
   ]
  },
  {
   "cell_type": "code",
   "execution_count": 78,
   "metadata": {},
   "outputs": [],
   "source": [
    "# We do this if we had std features, but these are periodograms, I don't think it makes sense\n",
    "_ = \"\"\"\n",
    "scaler = sklearn.preprocessing.StandardScaler()\n",
    "scaler.fit(X_train)\n",
    "X_train_scaled = scaler.transform(X_train)\n",
    "X_test_scaled = scaler.transform(X_test)\n",
    "\n",
    "# We can pickle the scaler to disk to save for later\n",
    "import pickle\n",
    "with open('xdata_scaler.pickle', 'wb') as f:\n",
    "    pickle.dump(scaler, f)\n",
    "\"\"\"\n"
   ]
  },
  {
   "cell_type": "markdown",
   "metadata": {},
   "source": [
    "### Distance Metric Experiment\n",
    "We need a way to compare periodograms for a KNN classifier.  L2 distance is the default KNN distance metric, which can be our baseline.  KL-Divergence is used for probability distributions and is not symmetric, but seems to have good properties for our application (if we scale our periodogram to sum to 1 like a probibilty density).\n",
    "\n",
    "So we will try 4 ways to make KL-divergence symmetric and compare it to the default L2 metric"
   ]
  },
  {
   "cell_type": "code",
   "execution_count": 68,
   "metadata": {},
   "outputs": [],
   "source": [
    "def kl_divergence(a, b):\n",
    "    valid = a != 0\n",
    "    return np.sum(a[valid] * np.log(a[valid] / (b[valid] + 1e-8)))\n",
    "\n",
    "# Make a symmetric distance metric based on KL-divergence-based\n",
    "def distance_kldiv(y1, y2, pool_method):\n",
    "    \n",
    "    # We can create symmetry by computing KL divergence both ways and pooling\n",
    "    kl1 =  kl_divergence(y1, y2) + 1e-8\n",
    "    kl2 =  kl_divergence(y2, y1) + 1e-8\n",
    "    \n",
    "    if pool_method == 'min':\n",
    "        return min(kl1, kl2)\n",
    "    elif pool_method == 'max':\n",
    "        return max(kl1, kl2)\n",
    "    elif pool_method == 'sum':\n",
    "        return kl1 + kl2\n",
    "    elif pool_method == 'geom':\n",
    "        return 1.0 / (1.0/kl1 + 1.0/kl2)\n",
    "    \n",
    "   "
   ]
  },
  {
   "cell_type": "markdown",
   "metadata": {},
   "source": [
    "### Create Classifier and Train\n",
    "\"Training\" is a funny word to use with KNN -- you just add all the training samples to a list..."
   ]
  },
  {
   "cell_type": "code",
   "execution_count": 69,
   "metadata": {},
   "outputs": [
    {
     "name": "stdout",
     "output_type": "stream",
     "text": [
      "Metric: L2    Acc: 0.6005 (0.04 sec)\n",
      "Metric: min   Acc: 0.5554 (8.28 sec)\n",
      "Metric: max   Acc: 0.5384 (8.55 sec)\n",
      "Metric: sum   Acc: 0.5432 (8.40 sec)\n",
      "Metric: geom  Acc: 0.5469 (8.51 sec)\n"
     ]
    }
   ],
   "source": [
    "for kltype in ['L2', 'min', 'max', 'sum', 'geom']:\n",
    "    tstart = time.time()\n",
    "    if kltype in [None, 'L2']:\n",
    "        # Regular L2 distance\n",
    "        knn = KNeighborsClassifier(n_neighbors=1)\n",
    "    else:\n",
    "        # Try one of the \n",
    "        dist_func = lambda a,b: distance_kldiv(a, b, kltype)\n",
    "        knn = KNeighborsClassifier(n_neighbors=1, metric=dist_func)\n",
    "                \n",
    "    y_true_agg, y_pred_agg = TrainUtils.kfold_train_predict(knn, full_df, num_splits=5)\n",
    "    telapsed = time.time() - tstart\n",
    "    acc = sklearn.metrics.accuracy_score(y_true_agg, y_pred_agg)\n",
    "    print('Metric:', kltype.ljust(5), f'Acc: {acc:.4f} ({telapsed:.2f} sec)')\n"
   ]
  },
  {
   "cell_type": "markdown",
   "metadata": {},
   "source": [
    "## Hmmm...\n",
    "It really looks like none of the KL-divergence options were worth the trouble.  And they're waaaay slower (not sure how much it has to do with the KL-div calc itself vs using custom distance metric with KNN, which was mentioned in the sklearn docs).\n",
    "\n",
    "My guess is that KL-divergence cares too much about non-dominant frequencies, whereas L2 distance is most heavily influenced by the dominant frequencies."
   ]
  },
  {
   "cell_type": "markdown",
   "metadata": {},
   "source": [
    "------"
   ]
  },
  {
   "cell_type": "markdown",
   "metadata": {},
   "source": [
    "Let's look at the classification report for one model using the default L2 distance.  "
   ]
  },
  {
   "cell_type": "code",
   "execution_count": 70,
   "metadata": {},
   "outputs": [
    {
     "name": "stdout",
     "output_type": "stream",
     "text": [
      "              precision    recall  f1-score   support\n",
      "\n",
      "           0       0.69      0.85      0.76        34\n",
      "           3       0.59      0.58      0.59        38\n",
      "           5       0.57      0.24      0.34        33\n",
      "           6       0.40      0.20      0.27        20\n",
      "           7       0.20      0.18      0.19        17\n",
      "           8       0.24      0.27      0.26        33\n",
      "           9       0.35      0.50      0.41        26\n",
      "          10       0.42      0.55      0.48        38\n",
      "          11       0.29      0.23      0.26        30\n",
      "          12       0.52      0.64      0.57        44\n",
      "          13       0.41      0.29      0.34        38\n",
      "          14       0.73      0.88      0.80        25\n",
      "          16       0.77      0.76      0.77       125\n",
      "          17       0.62      0.68      0.65       122\n",
      "          19       0.78      0.79      0.78       137\n",
      "          21       0.61      0.49      0.55        61\n",
      "\n",
      "    accuracy                           0.60       821\n",
      "   macro avg       0.51      0.51      0.50       821\n",
      "weighted avg       0.60      0.60      0.59       821\n",
      "\n"
     ]
    }
   ],
   "source": [
    "knn = KNeighborsClassifier(n_neighbors=1)\n",
    "y_true_agg, y_pred_agg = TrainUtils.kfold_train_predict(knn, full_df, num_splits=5)\n",
    "print(sklearn.metrics.classification_report(y_true_agg, y_pred_agg))"
   ]
  },
  {
   "cell_type": "markdown",
   "metadata": {},
   "source": []
  },
  {
   "cell_type": "code",
   "execution_count": 71,
   "metadata": {},
   "outputs": [
    {
     "name": "stdout",
     "output_type": "stream",
     "text": [
      "Confusion Matrix\n"
     ]
    },
    {
     "data": {
      "text/plain": "<Figure size 432x288 with 2 Axes>",
      "image/png": "[encoded data removed]"
     },
     "metadata": {
      "needs_background": "light"
     },
     "output_type": "display_data"
    }
   ],
   "source": [
    "fig,ax = plt.subplots()\n",
    "ax = sns.heatmap(sklearn.metrics.confusion_matrix(y_true_agg, y_pred_agg, labels=use_subjs, normalize='true'), ax=ax)\n",
    "ax.set_xlabel('Predicted')\n",
    "ax.set_ylabel('Truth')\n",
    "print('Confusion Matrix')\n",
    "\n",
    "fig.savefig('confusion_matrix.png')"
   ]
  },
  {
   "cell_type": "markdown",
   "metadata": {},
   "source": [
    "Confusion Matrix isn't all that exciting..."
   ]
  },
  {
   "cell_type": "markdown",
   "metadata": {},
   "source": [
    "-----"
   ]
  },
  {
   "cell_type": "markdown",
   "metadata": {},
   "source": [
    "-----"
   ]
  },
  {
   "cell_type": "markdown",
   "metadata": {},
   "source": [
    "### Hyperparameter search\n",
    "Define a single, parameterized, end-to-end dataset-preprocessing-splitting-training method."
   ]
  },
  {
   "cell_type": "code",
   "execution_count": 72,
   "metadata": {},
   "outputs": [
    {
     "name": "stdout",
     "output_type": "stream",
     "text": [
      "Params:\n",
      "{\n",
      "  \"data_dir\": \"./user_data\",\n",
      "  \"filt_avg_power\": 2.0,\n",
      "  \"filt_dc_ratio\": 0.7,\n",
      "  \"filt_power_ratio\": 0.5,\n",
      "  \"filt_min_samples_per_subj\": 8,\n",
      "  \"max_dt\": 0.035,\n",
      "  \"filt_min_timesteps_per_sample_ratio\": 0.9,\n",
      "  \"resample_dt\": 0.03,\n",
      "  \"window_size_sec\": 3.3,\n",
      "  \"num_subj\": 22,\n",
      "  \"max_resample_pts\": 105,\n",
      "  \"min_timesteps_per_sample\": 94\n",
      "}\n",
      "Number of files/subjects: 22\n",
      "Each sample will be 105 time steps\n",
      "Accuracy: 0.600\n",
      "Results List: [(16, 0.6004872107186358, {'data_dir': './user_data', 'filt_avg_power': 2.0, 'filt_dc_ratio': 0.7, 'filt_power_ratio': 0.5, 'filt_min_samples_per_subj': 8, 'max_dt': 0.035, 'filt_min_timesteps_per_sample_ratio': 0.9, 'resample_dt': 0.03, 'window_size_sec': 3.3, 'num_subj': 22, 'max_resample_pts': 105, 'min_timesteps_per_sample': 94})]\n"
     ]
    }
   ],
   "source": [
    "try:\n",
    "    import GPyOpt\n",
    "    from GPyOpt.methods import BayesianOptimization\n",
    "except:\n",
    "    print('GPyOpt module not installed.  Remainder of notebook cannot be run without it')\n",
    "    print('It can easily be installed via \"pip install gpyopt\"')\n",
    "    raise\n",
    "    \n",
    "# This only needs to be loaded from file once\n",
    "params = AccelUtils.read_params_file('params.json')\n",
    "num_subj = params['num_subj']\n",
    "per_user_all_data = AccelUtils.read_all_user_data(params['data_dir'], num_subj)\n",
    "global_results = []  # List((num_subj, accuracy, params))\n",
    "\n",
    "# Parameterized training method, mostly with copied fragments from the rest of the notebook\n",
    "def parameterized_train(hyperparams):\n",
    "    max_resample_pts = hyperparams['max_resample_pts']\n",
    "    n_subj = hyperparams['num_subj']\n",
    "    min_samples = hyperparams['filt_min_samples_per_subj']\n",
    "    min_timesteps_per_sample = int(hyperparams['max_resample_pts'] *\n",
    "                                   hyperparams['filt_min_timesteps_per_sample_ratio'])\n",
    "\n",
    "    valid_windows_by_user = {}\n",
    "    for i in range(n_subj):\n",
    "        df = per_user_all_data[i]\n",
    "        valid_windows_by_user[i] = AccelUtils.extract_valid_time_windows_for_subj(\n",
    "            df,\n",
    "            hyperparams['window_size_sec'],\n",
    "            min_timesteps_per_sample)\n",
    "\n",
    "    counts = [len(valid_windows_by_user[i]) for i in range(n_subj)]\n",
    "    use_subjs = [i for i in range(n_subj) if counts[i] >= min_samples]\n",
    "\n",
    "    all_rows = []\n",
    "    for i_subj in use_subjs:\n",
    "        for i_win, window in enumerate(valid_windows_by_user[i_subj]):\n",
    "            fs, pow_norm = AccelUtils.compute_periodogram(\n",
    "                window,\n",
    "                hyperparams['resample_dt'],\n",
    "                max_resample_pts)\n",
    "\n",
    "            if len(pow_norm.tolist()) < max_resample_pts//2:\n",
    "                continue\n",
    "\n",
    "            all_rows.append(pow_norm.tolist() + [i_subj])\n",
    "\n",
    "    col_headers = [f'freq_{i:02d}' for i in range(len(all_rows[0]))]\n",
    "    col_headers[-1] = 'label'\n",
    "    full_df = pd.DataFrame.from_records(all_rows, columns=col_headers)\n",
    "    full_df.dropna(axis=0, inplace=True)\n",
    "    full_df['label'] = full_df['label'].astype('int32')\n",
    "\n",
    "    knn = KNeighborsClassifier(n_neighbors=1)\n",
    "    y_true_agg, y_pred_agg = TrainUtils.kfold_train_predict(knn, full_df, num_splits=5)\n",
    "    acc = sklearn.metrics.accuracy_score(y_true_agg, y_pred_agg)\n",
    "\n",
    "    global_results.append((len(use_subjs), acc, hyperparams))\n",
    "    return acc\n",
    "\n",
    "print(f'Accuracy: {parameterized_train(params):.3f}')\n",
    "print(f'Results List:', global_results)\n"
   ]
  },
  {
   "cell_type": "markdown",
   "metadata": {},
   "source": [
    "### A quick grid search over just window size\n",
    "I'll do the full parameter search with GPyOpt after this"
   ]
  },
  {
   "cell_type": "code",
   "execution_count": null,
   "metadata": {
    "pycharm": {
     "is_executing": true
    }
   },
   "outputs": [
    {
     "name": "stdout",
     "output_type": "stream",
     "text": [
      "{'window_size_sec': 2.0}\n",
      "Tested window size=2.0, accuracy: 0.522 (#subj=20)\n",
      "{'window_size_sec': 2.1}\n",
      "Tested window size=2.1, accuracy: 0.487 (#subj=20)\n",
      "{'window_size_sec': 2.2}\n",
      "Tested window size=2.2, accuracy: 0.519 (#subj=19)\n",
      "{'window_size_sec': 2.3000000000000003}\n",
      "Tested window size=2.3, accuracy: 0.557 (#subj=20)\n",
      "{'window_size_sec': 2.4000000000000004}\n",
      "Tested window size=2.4, accuracy: 0.543 (#subj=19)\n",
      "{'window_size_sec': 2.5000000000000004}\n",
      "Tested window size=2.5, accuracy: 0.540 (#subj=18)\n",
      "{'window_size_sec': 2.6000000000000005}\n",
      "Tested window size=2.6, accuracy: 0.550 (#subj=18)\n",
      "{'window_size_sec': 2.7000000000000006}\n",
      "Tested window size=2.7, accuracy: 0.563 (#subj=18)\n",
      "{'window_size_sec': 2.8000000000000007}\n",
      "Tested window size=2.8, accuracy: 0.566 (#subj=19)\n",
      "{'window_size_sec': 2.900000000000001}\n",
      "Tested window size=2.9, accuracy: 0.566 (#subj=18)\n",
      "{'window_size_sec': 3.000000000000001}\n",
      "Tested window size=3.0, accuracy: 0.541 (#subj=19)\n",
      "{'window_size_sec': 3.100000000000001}\n",
      "Tested window size=3.1, accuracy: 0.538 (#subj=18)\n",
      "{'window_size_sec': 3.200000000000001}\n",
      "Tested window size=3.2, accuracy: 0.576 (#subj=18)\n",
      "{'window_size_sec': 3.300000000000001}\n",
      "Tested window size=3.3, accuracy: 0.610 (#subj=16)\n",
      "{'window_size_sec': 3.4000000000000012}\n",
      "Tested window size=3.4, accuracy: 0.570 (#subj=17)\n",
      "{'window_size_sec': 3.5000000000000013}\n",
      "Tested window size=3.5, accuracy: 0.556 (#subj=18)\n",
      "{'window_size_sec': 3.6000000000000014}\n",
      "Tested window size=3.6, accuracy: 0.563 (#subj=18)\n",
      "{'window_size_sec': 3.7000000000000015}\n",
      "Tested window size=3.7, accuracy: 0.537 (#subj=17)\n",
      "{'window_size_sec': 3.8000000000000016}\n",
      "Tested window size=3.8, accuracy: 0.594 (#subj=16)\n",
      "{'window_size_sec': 3.9000000000000017}\n",
      "Tested window size=3.9, accuracy: 0.601 (#subj=17)\n",
      "{'window_size_sec': 4.000000000000002}\n",
      "Tested window size=4.0, accuracy: 0.585 (#subj=17)\n",
      "{'window_size_sec': 4.100000000000001}\n",
      "Tested window size=4.1, accuracy: 0.604 (#subj=16)\n",
      "{'window_size_sec': 4.200000000000002}\n"
     ]
    }
   ],
   "source": [
    "default_params = params.copy()\n",
    "def eval_with_params(hyperparams):\n",
    "    print(hyperparams)\n",
    "    test_params = default_params.copy()\n",
    "    test_params.update(hyperparams)\n",
    "    AccelUtils.recompute_dervied_params(test_params)\n",
    "\n",
    "    acc = parameterized_train(test_params)\n",
    "    nsubj = global_results[-1][0]\n",
    "    return acc\n",
    "\n",
    "\n",
    "global_results = []\n",
    "for w in np.arange(2.0, 6.0, step=0.1):\n",
    "    upd_params = {'window_size_sec': w}\n",
    "    acc = eval_with_params(upd_params)\n",
    "    nsubj = global_results[-1][0]\n",
    "    print(f'Tested window size={w:.1f}, accuracy: {acc:.3f} (#subj={nsubj})')"
   ]
  },
  {
   "cell_type": "code",
   "execution_count": null,
   "outputs": [],
   "source": [
    "fig, ax = plt.subplots()\n",
    "windows = [p['window_size_sec'] for _, _, p in global_results]\n",
    "accs = [acc for _, acc, _ in global_results]\n",
    "ax.plot(windows, accs)\n",
    "ax.set_xlabel('Time Window Size (sec)')\n",
    "ax.set_ylabel('Accuracy (5-fold cross val)')\n",
    "ax.set_title('Accuracy as a function of time window')\n"
   ],
   "metadata": {
    "collapsed": false,
    "pycharm": {
     "name": "#%%\n",
     "is_executing": true
    }
   }
  },
  {
   "cell_type": "code",
   "execution_count": null,
   "metadata": {
    "pycharm": {
     "is_executing": true
    }
   },
   "outputs": [],
   "source": [
    "# GPyOpt seems to only be willing to pass tuples, not dictionaries... annoying\n",
    "# So create yet another wrapper...\n",
    "def create_eval_with_params_tuple(domain):\n",
    "    kwarg_names = [var_dict['name'] for var_dict in domain]\n",
    "\n",
    "    def out_func(param_tuple):\n",
    "        kwargs = {}\n",
    "        for i,v in enumerate(param_tuple[0]):\n",
    "            kwargs[kwarg_names[i]] = v\n",
    "\n",
    "        acc = eval_with_params(kwargs)\n",
    "        print(acc)\n",
    "        return -acc\n",
    "\n",
    "    return out_func\n"
   ]
  },
  {
   "cell_type": "code",
   "execution_count": null,
   "metadata": {
    "pycharm": {
     "is_executing": true
    }
   },
   "outputs": [],
   "source": [
    "domain = [\n",
    "  {'name': 'filt_avg_power',   'type': 'continuous', 'domain': (1.0, 3.0)},\n",
    "  #{'name': \"filt_dc_ratio\",    'type': 'continuous', 'domain': (0.5, 1.0)},\n",
    "  #{'name': \"filt_power_ratio\", 'type': 'continuous', 'domain': (0.5, 1.0)},\n",
    "  {'name': \"window_size_sec\",  'type': 'continuous', 'domain': (2.0, 6.0)},\n",
    "]\n",
    "\n",
    "myBopt = BayesianOptimization(f=create_eval_with_params_tuple(domain), domain=domain)\n",
    "myBopt.run_optimization(max_iter=100)\n",
    "myBopt.plot_acquisition()"
   ]
  },
  {
   "cell_type": "code",
   "execution_count": null,
   "metadata": {
    "pycharm": {
     "is_executing": true
    }
   },
   "outputs": [],
   "source": [
    "myBopt.save_report('report.txt')\n",
    "\n"
   ]
  },
  {
   "cell_type": "code",
   "execution_count": null,
   "metadata": {},
   "outputs": [],
   "source": []
  },
  {
   "cell_type": "code",
   "execution_count": null,
   "metadata": {},
   "outputs": [],
   "source": []
  }
 ],
 "metadata": {
  "kernelspec": {
   "display_name": "venv382",
   "language": "python",
   "name": "venv382"
  },
  "language_info": {
   "codemirror_mode": {
    "name": "ipython",
    "version": 3
   },
   "file_extension": ".py",
   "mimetype": "text/x-python",
   "name": "python",
   "nbconvert_exporter": "python",
   "pygments_lexer": "ipython3",
   "version": "3.8.2"
  }
 },
 "nbformat": 4,
 "nbformat_minor": 4
}
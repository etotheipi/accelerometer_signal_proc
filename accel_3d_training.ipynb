{
 "cells": [
  {
   "cell_type": "markdown",
   "metadata": {
    "pycharm": {
     "name": "#%% md\n"
    }
   },
   "source": [
    "## Experiment: Using 3D measurements\n",
    "\n",
    "**Strategy:**  The previous notebook only used magnitude of acceleration and actually did quite well (in my opinion).  But I believe that there may be even richer information in the 3D data.\n",
    "\n",
    "Steps:\n",
    "\n",
    "* Calculate acceleration-magnitude vector as in experiment 1.  Put this aside.\n",
    "* For each Nx3 sample, calculate the _median_ value in each of x, y, and z dimensions.  This will estimate the direction of gravity if the person stopped walking.\n",
    "* Calculation rotation matrix to rotate gravity vector towards -z (0,0,-1).  Rotate all vectors in sample with the rotation matrix\n",
    "* For all points, calculate latitude and longitude of the vector projected on the unit sphere\n",
    "* For all N latitudes, compute N-1 latitude differences/rotations, compute periodogram\n",
    "* For all N longitudes, compute N-1 longitude differences/rotations, compute periodogram\n",
    "* Concatenate magnitude, d_latitude, d_longitude periodograms\n",
    "* Use same L2-based KNN as in experiment #1\n",
    "\n",
    "**SPOILER:** It actually worked quite well! \n",
    "1. Experiment #1 (Magnitude only): 62% accuracy, 53% unweighted average across all classes\n",
    "2. Experiment #2 (With XYZ comps): 71% accuracy, 66% unweighted average!  "
   ]
  },
  {
   "cell_type": "code",
   "execution_count": 115,
   "metadata": {},
   "outputs": [],
   "source": [
    "import os\n",
    "import sys\n",
    "\n",
    "import os\n",
    "import numpy as np\n",
    "import pandas as pd\n",
    "import matplotlib.pyplot as plt\n",
    "import scipy\n",
    "import seaborn as sns\n",
    "import json\n",
    "import sklearn\n",
    "import time\n",
    "from accel_utils import AccelUtils\n",
    "from train_utils import TrainUtils\n",
    "\n",
    "from sklearn.neighbors import KNeighborsClassifier\n",
    "from sklearn.preprocessing import StandardScaler\n",
    "from sklearn.model_selection import StratifiedKFold\n",
    "from sklearn.neighbors import DistanceMetric"
   ]
  },
  {
   "cell_type": "code",
   "execution_count": 116,
   "metadata": {},
   "outputs": [
    {
     "name": "stdout",
     "output_type": "stream",
     "text": [
      "The autoreload extension is already loaded. To reload it, use:\n",
      "  %reload_ext autoreload\n"
     ]
    }
   ],
   "source": [
    "%load_ext autoreload\n",
    "%autoreload 2"
   ]
  },
  {
   "cell_type": "code",
   "execution_count": 117,
   "metadata": {},
   "outputs": [
    {
     "name": "stdout",
     "output_type": "stream",
     "text": [
      "Params:\n",
      "{\n",
      "  \"data_dir\": \"./user_data\",\n",
      "  \"filt_avg_power\": 2.0,\n",
      "  \"filt_dc_ratio\": 0.7,\n",
      "  \"filt_power_ratio\": 0.5,\n",
      "  \"filt_min_samples_per_subj\": 8,\n",
      "  \"max_dt\": 0.035,\n",
      "  \"filt_min_timesteps_per_sample_ratio\": 0.9,\n",
      "  \"resample_dt\": 0.03,\n",
      "  \"window_size_sec\": 4.3,\n",
      "  \"num_subj\": 22,\n",
      "  \"max_resample_pts\": 139,\n",
      "  \"min_timesteps_per_sample\": 125\n",
      "}\n",
      "Number of files/subjects: 22\n",
      "Each sample will be 139 time steps\n",
      "Keeping 16 subjects [0, 3, 5, 6, 7, 8, 9, 10, 11, 12, 13, 14, 16, 17, 19, 21]\n"
     ]
    }
   ],
   "source": [
    "params = AccelUtils.read_params_file('params.json')\n",
    "num_subj = params['num_subj']\n",
    "max_resample_pts = params['max_resample_pts']\n",
    "min_timesteps_per_sample = int(params['max_resample_pts'] * params['filt_min_timesteps_per_sample_ratio'])\n",
    "per_user_all_data = AccelUtils.read_all_user_data(params['data_dir'], num_subj)\n",
    "valid_windows_by_user = {}\n",
    "for i in range(num_subj):\n",
    "    df = per_user_all_data[i]\n",
    "    valid_windows_by_user[i] = AccelUtils.extract_valid_time_windows_for_subj(\n",
    "        df,\n",
    "        params['window_size_sec'],\n",
    "        min_timesteps_per_sample)\n",
    "\n",
    "min_samples = params['filt_min_samples_per_subj']\n",
    "counts = [len(valid_windows_by_user[i]) for i in range(num_subj)]\n",
    "use_subjs = [i for i in range(num_subj) if counts[i] >= min_samples]\n",
    "print(f'Keeping {len(use_subjs)} subjects {use_subjs}')"
   ]
  },
  {
   "cell_type": "markdown",
   "metadata": {},
   "source": [
    "### Compute extra two feature sets for each window sample"
   ]
  },
  {
   "cell_type": "code",
   "execution_count": 118,
   "metadata": {
    "collapsed": false,
    "jupyter": {
     "outputs_hidden": false
    },
    "pycharm": {
     "name": "#%%\n"
    }
   },
   "outputs": [
    {
     "data": {
      "text/html": [
       "<div>\n",
       "<style scoped>\n",
       "    .dataframe tbody tr th:only-of-type {\n",
       "        vertical-align: middle;\n",
       "    }\n",
       "\n",
       "    .dataframe tbody tr th {\n",
       "        vertical-align: top;\n",
       "    }\n",
       "\n",
       "    .dataframe thead th {\n",
       "        text-align: right;\n",
       "    }\n",
       "</style>\n",
       "<table border=\"1\" class=\"dataframe\">\n",
       "  <thead>\n",
       "    <tr style=\"text-align: right;\">\n",
       "      <th></th>\n",
       "      <th>t</th>\n",
       "      <th>x_acc</th>\n",
       "      <th>y_acc</th>\n",
       "      <th>z_acc</th>\n",
       "      <th>mag_acc</th>\n",
       "    </tr>\n",
       "  </thead>\n",
       "  <tbody>\n",
       "    <tr>\n",
       "      <th>700</th>\n",
       "      <td>21.51</td>\n",
       "      <td>-4.2495</td>\n",
       "      <td>12.149</td>\n",
       "      <td>-1.0760</td>\n",
       "      <td>12.915658</td>\n",
       "    </tr>\n",
       "    <tr>\n",
       "      <th>701</th>\n",
       "      <td>21.54</td>\n",
       "      <td>-3.6366</td>\n",
       "      <td>13.566</td>\n",
       "      <td>-1.1169</td>\n",
       "      <td>14.089311</td>\n",
       "    </tr>\n",
       "    <tr>\n",
       "      <th>702</th>\n",
       "      <td>21.57</td>\n",
       "      <td>-3.7865</td>\n",
       "      <td>13.866</td>\n",
       "      <td>-1.8796</td>\n",
       "      <td>14.496083</td>\n",
       "    </tr>\n",
       "    <tr>\n",
       "      <th>703</th>\n",
       "      <td>21.60</td>\n",
       "      <td>-3.3370</td>\n",
       "      <td>12.790</td>\n",
       "      <td>-3.5958</td>\n",
       "      <td>13.698520</td>\n",
       "    </tr>\n",
       "    <tr>\n",
       "      <th>704</th>\n",
       "      <td>21.63</td>\n",
       "      <td>-2.9829</td>\n",
       "      <td>10.038</td>\n",
       "      <td>-4.0589</td>\n",
       "      <td>11.230931</td>\n",
       "    </tr>\n",
       "  </tbody>\n",
       "</table>\n",
       "</div>"
      ],
      "text/plain": [
       "         t   x_acc   y_acc   z_acc    mag_acc\n",
       "700  21.51 -4.2495  12.149 -1.0760  12.915658\n",
       "701  21.54 -3.6366  13.566 -1.1169  14.089311\n",
       "702  21.57 -3.7865  13.866 -1.8796  14.496083\n",
       "703  21.60 -3.3370  12.790 -3.5958  13.698520\n",
       "704  21.63 -2.9829  10.038 -4.0589  11.230931"
      ]
     },
     "execution_count": 118,
     "metadata": {},
     "output_type": "execute_result"
    }
   ],
   "source": [
    "valid_windows_by_user[0][0].head()\n"
   ]
  },
  {
   "cell_type": "code",
   "execution_count": 119,
   "metadata": {
    "collapsed": false,
    "jupyter": {
     "outputs_hidden": false
    },
    "pycharm": {
     "name": "#%%\n"
    }
   },
   "outputs": [
    {
     "name": "stdout",
     "output_type": "stream",
     "text": [
      "Testing rotation...\n",
      "  Rotation matrix:\n",
      " [[ 0.92429324  0.23847764 -0.29801079]\n",
      " [ 0.23847764  0.24879124  0.93873923]\n",
      " [ 0.29801079 -0.93873923  0.17308447]]\n",
      "  Gravity estimate: [-0.29801079  0.93873923 -0.17308447]\n",
      "  Rotated grav est: ['-0.000', '0.000', '-1.000']\n"
     ]
    }
   ],
   "source": [
    "test_window = valid_windows_by_user[0][0].copy()\n",
    "rotm, grav_est = AccelUtils.estimate_gravity_and_rotation_matrix(test_window)\n",
    "print('Testing rotation...')\n",
    "print('  Rotation matrix:\\n', rotm)\n",
    "print('  Gravity estimate:', grav_est)\n",
    "print('  Rotated grav est:', [f'{v:.3f}' for v in rotm.dot(grav_est).tolist()])"
   ]
  },
  {
   "cell_type": "code",
   "execution_count": 120,
   "metadata": {
    "collapsed": false,
    "jupyter": {
     "outputs_hidden": false
    },
    "pycharm": {
     "name": "#%%\n"
    }
   },
   "outputs": [
    {
     "name": "stdout",
     "output_type": "stream",
     "text": [
      "Average of rotated time slice (Earth's gravity is 9.81 m/s2)\n",
      "x_rot    5.410383e-16\n",
      "y_rot    2.483147e-15\n",
      "z_rot   -9.886914e+00\n",
      "dtype: float64\n",
      "x_rot   -0.010591\n",
      "y_rot    0.016938\n",
      "z_rot   -0.962400\n",
      "dtype: float64\n",
      "(142, 8)\n",
      "(141,)\n",
      "(141,)\n"
     ]
    }
   ],
   "source": [
    "def align_window_acc_to_gravity(subj_window_df, with_norm=True):\n",
    "    rot_mtrx, _ = AccelUtils.estimate_gravity_and_rotation_matrix(subj_window_df)\n",
    "    xyz_vals = subj_window_df[['x_acc', 'y_acc', 'z_acc']].values\n",
    "    rotated_vals = rot_mtrx.dot(xyz_vals.T).T\n",
    "    if with_norm:\n",
    "        norm_vals = np.linalg.norm(rotated_vals, axis=1)\n",
    "        rotated_vals = rotated_vals / np.expand_dims(norm_vals, axis=1)\n",
    "\n",
    "    subj_window_df['x_rot'] = rotated_vals[:, 0]\n",
    "    subj_window_df['y_rot'] = rotated_vals[:, 1]\n",
    "    subj_window_df['z_rot'] = rotated_vals[:, 2]\n",
    "\n",
    "def compute_first_order_longitudes(subj_window_df):\n",
    "    # Project into xy plane, calc angle between (x1,y1) and (x2, y2)\n",
    "    xy_pairs = subj_window_df[['x_rot', 'y_rot']].values\n",
    "    xy_norms = np.linalg.norm(xy_pairs, axis=1)\n",
    "    xy_units = xy_pairs / np.expand_dims(xy_norms, axis=1) * 0.999\n",
    "    out = []\n",
    "    for r in range(xy_pairs.shape[0] - 1):\n",
    "        x1, y1 = xy_units[r+0, :]\n",
    "        x2, y2 = xy_units[r+1, :]\n",
    "        out.append(np.arcsin(x1 * y2 - x2 * y1))\n",
    "\n",
    "    return np.array(out)\n",
    "\n",
    "def compute_first_order_latitudes(subj_window_df):\n",
    "    # Assume unit vector inputs\n",
    "    lat_angles = np.arcsin(subj_window_df['z_rot'].values * 0.999)\n",
    "    return lat_angles[1:] - lat_angles[:-1]\n",
    "\n",
    "\n",
    "print('Average of rotated time slice (Earth\\'s gravity is 9.81 m/s2)')\n",
    "align_window_acc_to_gravity(test_window, with_norm=False)\n",
    "print(test_window[['x_rot', 'y_rot', 'z_rot']].mean())\n",
    "align_window_acc_to_gravity(test_window, with_norm=True)\n",
    "print(test_window[['x_rot', 'y_rot', 'z_rot']].mean())\n",
    "test_window.head()\n",
    "\n",
    "print(test_window.shape)\n",
    "print(compute_first_order_longitudes(test_window).shape)\n",
    "print(compute_first_order_latitudes(test_window).shape)"
   ]
  },
  {
   "cell_type": "code",
   "execution_count": 121,
   "metadata": {
    "collapsed": false,
    "jupyter": {
     "outputs_hidden": false
    },
    "pycharm": {
     "name": "#%%\n"
    }
   },
   "outputs": [
    {
     "data": {
      "text/plain": [
       "[<matplotlib.lines.Line2D at 0x7fa1d08f2400>]"
      ]
     },
     "execution_count": 121,
     "metadata": {},
     "output_type": "execute_result"
    },
    {
     "data": {
      "image/png": "[encoded data removed]",
      "text/plain": [
       "<Figure size 720x720 with 3 Axes>"
      ]
     },
     "metadata": {
      "needs_background": "light"
     },
     "output_type": "display_data"
    }
   ],
   "source": [
    "def angle_periodogram(angle_diffs, dt_resample, pow_exponent=0.5):\n",
    "    fs, fpow = scipy.signal.periodogram(angle_diffs, 1/dt_resample)\n",
    "    fpow = fpow ** pow_exponent\n",
    "    fpow_norm = fpow / np.sum(fpow)\n",
    "    return fs, fpow_norm\n",
    "\n",
    "def convert_subj_df_to_three_periodograms(subj_window_df, resample_dt):\n",
    "    fs, mag_per = AccelUtils.compute_periodogram(subj_window_df,\n",
    "                                                 resample_dt,\n",
    "                                                 max_resample_pts)\n",
    "\n",
    "    _, x_resampled = AccelUtils.resample_and_truncate(subj_window_df,\n",
    "                                                      resample_dt,\n",
    "                                                      max_resample_pts,\n",
    "                                                      col='x_acc')\n",
    "    _, y_resampled = AccelUtils.resample_and_truncate(subj_window_df,\n",
    "                                                      resample_dt,\n",
    "                                                      max_resample_pts,\n",
    "                                                      col='y_acc')\n",
    "    t, z_resampled = AccelUtils.resample_and_truncate(subj_window_df,\n",
    "                                                      resample_dt,\n",
    "                                                      max_resample_pts,\n",
    "                                                      col='z_acc')\n",
    "\n",
    "    resampled_df = pd.DataFrame.from_records(\n",
    "        zip(t, x_resampled, y_resampled, z_resampled),\n",
    "        columns=['t', 'x_acc', 'y_acc', 'z_acc'])\n",
    "\n",
    "    align_window_acc_to_gravity(resampled_df, with_norm=True)\n",
    "    dlat_seq = compute_first_order_latitudes(resampled_df)\n",
    "    dlon_seq = compute_first_order_longitudes(resampled_df)\n",
    "    fs, dlat_per = angle_periodogram(dlat_seq, params['resample_dt'])\n",
    "    fs, dlon_per = angle_periodogram(dlon_seq, params['resample_dt'])\n",
    "    return fs, mag_per, dlat_per, dlon_per, resampled_df\n",
    "\n",
    "fs, mag_per, lat, lon, redf = convert_subj_df_to_three_periodograms(\n",
    "    test_window, params['resample_dt'])\n",
    "fig,axs = plt.subplots(3, 1, figsize=(10, 10))\n",
    "axs[0].plot(fs, mag_per)\n",
    "axs[1].plot(fs, lat)\n",
    "axs[2].plot(fs, lon)"
   ]
  },
  {
   "cell_type": "code",
   "execution_count": 122,
   "metadata": {},
   "outputs": [
    {
     "name": "stdout",
     "output_type": "stream",
     "text": [
      "Total Row Count: 616\n"
     ]
    },
    {
     "data": {
      "image/png": "[encoded data removed]",
      "text/plain": [
       "<Figure size 576x432 with 1 Axes>"
      ]
     },
     "metadata": {
      "needs_background": "light"
     },
     "output_type": "display_data"
    }
   ],
   "source": [
    "\n",
    "all_rows = []\n",
    "fig,ax = plt.subplots(figsize=(8,6))\n",
    "for i_subj in use_subjs:\n",
    "    for i_win, window in enumerate(valid_windows_by_user[i_subj]):\n",
    "        fs, mags, lats, lons, _ = convert_subj_df_to_three_periodograms(window, params['resample_dt'])\n",
    "\n",
    "        if len(mags.tolist()) < max_resample_pts//2:\n",
    "            continue\n",
    "\n",
    "        all_periodograms = np.concatenate([mags, lats, lons])\n",
    "        all_rows.append(all_periodograms.tolist() + [i_subj])\n",
    "        \n",
    "        # Display the first 6 periodograms for subj 0\n",
    "        if i_subj==0 and i_win < 6:\n",
    "            ax.plot(all_periodograms)\n",
    "            \n",
    "ax.set_xlabel('Frequency Index (repeated 3 times)')\n",
    "ax.set_ylabel('Sqrt(Power)')\n",
    "ax.set_title(f'Sample Spectral Density/Periodogram for Subj 1')\n",
    "ax.legend([f'Sample {i+1}' for i in range(6)])\n",
    "#col_headers = [f'f{freq:.1f}' for freq in fs] + ['label']\n",
    "col_headers = [f'f_{i}' for i in range(len(all_periodograms))] + ['label']\n",
    "print('Total Row Count:', len(all_rows))\n",
    "ax.plot([70, 70], [0, 0.3], 'b-.', lw=0.3)\n",
    "ax.plot([140, 140], [0, 0.3], 'b-.', lw=0.3)\n",
    "ax.text(27, 0.15, 'Accel Mag', fontdict={'color':'blue'})\n",
    "ax.text(27+70, 0.15, 'Accel Lat', fontdict={'color':'blue'})\n",
    "ax.text(27+140, 0.15, 'Accel Lon', fontdict={'color':'blue'})\n",
    "fig.savefig('images/sample_spectral_density_3d.png')"
   ]
  },
  {
   "cell_type": "markdown",
   "metadata": {},
   "source": [
    "That looks pretty consistent..."
   ]
  },
  {
   "cell_type": "markdown",
   "metadata": {},
   "source": [
    "### Some standard data cleaning\n",
    "Make sure labels are integers, remove any NA values"
   ]
  },
  {
   "cell_type": "code",
   "execution_count": 123,
   "metadata": {},
   "outputs": [
    {
     "name": "stdout",
     "output_type": "stream",
     "text": [
      "Total dataset size: (612, 211)\n"
     ]
    },
    {
     "data": {
      "text/html": [
       "<div>\n",
       "<style scoped>\n",
       "    .dataframe tbody tr th:only-of-type {\n",
       "        vertical-align: middle;\n",
       "    }\n",
       "\n",
       "    .dataframe tbody tr th {\n",
       "        vertical-align: top;\n",
       "    }\n",
       "\n",
       "    .dataframe thead th {\n",
       "        text-align: right;\n",
       "    }\n",
       "</style>\n",
       "<table border=\"1\" class=\"dataframe\">\n",
       "  <thead>\n",
       "    <tr style=\"text-align: right;\">\n",
       "      <th></th>\n",
       "      <th>f_0</th>\n",
       "      <th>f_1</th>\n",
       "      <th>f_2</th>\n",
       "      <th>f_3</th>\n",
       "      <th>f_4</th>\n",
       "      <th>f_5</th>\n",
       "      <th>f_6</th>\n",
       "      <th>f_7</th>\n",
       "      <th>f_8</th>\n",
       "      <th>f_9</th>\n",
       "      <th>...</th>\n",
       "      <th>f_201</th>\n",
       "      <th>f_202</th>\n",
       "      <th>f_203</th>\n",
       "      <th>f_204</th>\n",
       "      <th>f_205</th>\n",
       "      <th>f_206</th>\n",
       "      <th>f_207</th>\n",
       "      <th>f_208</th>\n",
       "      <th>f_209</th>\n",
       "      <th>label</th>\n",
       "    </tr>\n",
       "  </thead>\n",
       "  <tbody>\n",
       "    <tr>\n",
       "      <th>0</th>\n",
       "      <td>1.387771e-16</td>\n",
       "      <td>0.015825</td>\n",
       "      <td>0.007720</td>\n",
       "      <td>0.011240</td>\n",
       "      <td>0.018839</td>\n",
       "      <td>0.021067</td>\n",
       "      <td>0.027488</td>\n",
       "      <td>0.043541</td>\n",
       "      <td>0.224552</td>\n",
       "      <td>0.098242</td>\n",
       "      <td>...</td>\n",
       "      <td>0.003843</td>\n",
       "      <td>0.006702</td>\n",
       "      <td>0.008502</td>\n",
       "      <td>0.006245</td>\n",
       "      <td>0.006422</td>\n",
       "      <td>0.007852</td>\n",
       "      <td>0.002080</td>\n",
       "      <td>0.003966</td>\n",
       "      <td>0.001618</td>\n",
       "      <td>0</td>\n",
       "    </tr>\n",
       "    <tr>\n",
       "      <th>1</th>\n",
       "      <td>1.903181e-16</td>\n",
       "      <td>0.019632</td>\n",
       "      <td>0.021445</td>\n",
       "      <td>0.022306</td>\n",
       "      <td>0.023109</td>\n",
       "      <td>0.029195</td>\n",
       "      <td>0.037177</td>\n",
       "      <td>0.055577</td>\n",
       "      <td>0.181321</td>\n",
       "      <td>0.123355</td>\n",
       "      <td>...</td>\n",
       "      <td>0.004000</td>\n",
       "      <td>0.009565</td>\n",
       "      <td>0.007247</td>\n",
       "      <td>0.006279</td>\n",
       "      <td>0.002123</td>\n",
       "      <td>0.011273</td>\n",
       "      <td>0.004439</td>\n",
       "      <td>0.003794</td>\n",
       "      <td>0.007363</td>\n",
       "      <td>0</td>\n",
       "    </tr>\n",
       "    <tr>\n",
       "      <th>2</th>\n",
       "      <td>5.481318e-17</td>\n",
       "      <td>0.000788</td>\n",
       "      <td>0.000593</td>\n",
       "      <td>0.007369</td>\n",
       "      <td>0.000252</td>\n",
       "      <td>0.013532</td>\n",
       "      <td>0.025359</td>\n",
       "      <td>0.046124</td>\n",
       "      <td>0.229234</td>\n",
       "      <td>0.076757</td>\n",
       "      <td>...</td>\n",
       "      <td>0.004297</td>\n",
       "      <td>0.009089</td>\n",
       "      <td>0.001616</td>\n",
       "      <td>0.018093</td>\n",
       "      <td>0.010559</td>\n",
       "      <td>0.005117</td>\n",
       "      <td>0.008328</td>\n",
       "      <td>0.007663</td>\n",
       "      <td>0.004140</td>\n",
       "      <td>0</td>\n",
       "    </tr>\n",
       "    <tr>\n",
       "      <th>3</th>\n",
       "      <td>4.775134e-17</td>\n",
       "      <td>0.004330</td>\n",
       "      <td>0.008085</td>\n",
       "      <td>0.007030</td>\n",
       "      <td>0.007247</td>\n",
       "      <td>0.009892</td>\n",
       "      <td>0.016345</td>\n",
       "      <td>0.029676</td>\n",
       "      <td>0.280399</td>\n",
       "      <td>0.033050</td>\n",
       "      <td>...</td>\n",
       "      <td>0.008520</td>\n",
       "      <td>0.004283</td>\n",
       "      <td>0.005703</td>\n",
       "      <td>0.012254</td>\n",
       "      <td>0.009853</td>\n",
       "      <td>0.008996</td>\n",
       "      <td>0.006891</td>\n",
       "      <td>0.005826</td>\n",
       "      <td>0.001819</td>\n",
       "      <td>0</td>\n",
       "    </tr>\n",
       "    <tr>\n",
       "      <th>4</th>\n",
       "      <td>1.428622e-16</td>\n",
       "      <td>0.013254</td>\n",
       "      <td>0.013126</td>\n",
       "      <td>0.014649</td>\n",
       "      <td>0.012782</td>\n",
       "      <td>0.012406</td>\n",
       "      <td>0.028576</td>\n",
       "      <td>0.032763</td>\n",
       "      <td>0.267250</td>\n",
       "      <td>0.043878</td>\n",
       "      <td>...</td>\n",
       "      <td>0.010185</td>\n",
       "      <td>0.001121</td>\n",
       "      <td>0.006823</td>\n",
       "      <td>0.008683</td>\n",
       "      <td>0.008109</td>\n",
       "      <td>0.002558</td>\n",
       "      <td>0.002617</td>\n",
       "      <td>0.004621</td>\n",
       "      <td>0.001012</td>\n",
       "      <td>0</td>\n",
       "    </tr>\n",
       "  </tbody>\n",
       "</table>\n",
       "<p>5 rows × 211 columns</p>\n",
       "</div>"
      ],
      "text/plain": [
       "            f_0       f_1       f_2       f_3       f_4       f_5       f_6  \\\n",
       "0  1.387771e-16  0.015825  0.007720  0.011240  0.018839  0.021067  0.027488   \n",
       "1  1.903181e-16  0.019632  0.021445  0.022306  0.023109  0.029195  0.037177   \n",
       "2  5.481318e-17  0.000788  0.000593  0.007369  0.000252  0.013532  0.025359   \n",
       "3  4.775134e-17  0.004330  0.008085  0.007030  0.007247  0.009892  0.016345   \n",
       "4  1.428622e-16  0.013254  0.013126  0.014649  0.012782  0.012406  0.028576   \n",
       "\n",
       "        f_7       f_8       f_9  ...     f_201     f_202     f_203     f_204  \\\n",
       "0  0.043541  0.224552  0.098242  ...  0.003843  0.006702  0.008502  0.006245   \n",
       "1  0.055577  0.181321  0.123355  ...  0.004000  0.009565  0.007247  0.006279   \n",
       "2  0.046124  0.229234  0.076757  ...  0.004297  0.009089  0.001616  0.018093   \n",
       "3  0.029676  0.280399  0.033050  ...  0.008520  0.004283  0.005703  0.012254   \n",
       "4  0.032763  0.267250  0.043878  ...  0.010185  0.001121  0.006823  0.008683   \n",
       "\n",
       "      f_205     f_206     f_207     f_208     f_209  label  \n",
       "0  0.006422  0.007852  0.002080  0.003966  0.001618      0  \n",
       "1  0.002123  0.011273  0.004439  0.003794  0.007363      0  \n",
       "2  0.010559  0.005117  0.008328  0.007663  0.004140      0  \n",
       "3  0.009853  0.008996  0.006891  0.005826  0.001819      0  \n",
       "4  0.008109  0.002558  0.002617  0.004621  0.001012      0  \n",
       "\n",
       "[5 rows x 211 columns]"
      ]
     },
     "execution_count": 123,
     "metadata": {},
     "output_type": "execute_result"
    }
   ],
   "source": [
    "full_df = pd.DataFrame.from_records(all_rows, columns=col_headers)\n",
    "full_df.dropna(axis=0, inplace=True)\n",
    "full_df['label'] = full_df['label'].astype('int32')\n",
    "print('Total dataset size:', full_df.shape)\n",
    "full_df.head(5)"
   ]
  },
  {
   "cell_type": "markdown",
   "metadata": {},
   "source": [
    "------"
   ]
  },
  {
   "cell_type": "markdown",
   "metadata": {},
   "source": [
    "## Split the Data into Test and Train Sets\n",
    "We use sklearn's StratifiedKFold to make sure we get proportional representation of all classes in both test and train sets"
   ]
  },
  {
   "cell_type": "code",
   "execution_count": 124,
   "metadata": {},
   "outputs": [
    {
     "name": "stdout",
     "output_type": "stream",
     "text": [
      "Shapes: Train: X ~ (489, 210), y ~ (489,)  Test : X ~ (123, 210), y ~ (123,)\n",
      "Shapes: Train: X ~ (489, 210), y ~ (489,)  Test : X ~ (123, 210), y ~ (123,)\n",
      "Shapes: Train: X ~ (490, 210), y ~ (490,)  Test : X ~ (122, 210), y ~ (122,)\n",
      "Shapes: Train: X ~ (490, 210), y ~ (490,)  Test : X ~ (122, 210), y ~ (122,)\n",
      "Shapes: Train: X ~ (490, 210), y ~ (490,)  Test : X ~ (122, 210), y ~ (122,)\n"
     ]
    }
   ],
   "source": [
    "num_splits = 5\n",
    "for i in range(num_splits):\n",
    "    xt,yt,xs,ys = TrainUtils.get_skf_split(full_df, num_splits, i)\n",
    "    print(f'Shapes: '\n",
    "          f'Train: X ~ {xt.shape}, y ~ {yt.shape}  '\n",
    "          f'Test : X ~ {xs.shape}, y ~ {ys.shape}')"
   ]
  },
  {
   "cell_type": "markdown",
   "metadata": {},
   "source": [
    "Let's look at the classification report for one model using the default L2 distance.  "
   ]
  },
  {
   "cell_type": "code",
   "execution_count": 125,
   "metadata": {},
   "outputs": [
    {
     "name": "stdout",
     "output_type": "stream",
     "text": [
      "              precision    recall  f1-score   support\n",
      "\n",
      "           0       0.86      0.96      0.91        26\n",
      "           3       0.74      0.59      0.65        29\n",
      "           5       0.65      0.74      0.69        27\n",
      "           6       0.57      0.24      0.33        17\n",
      "           7       0.50      0.38      0.43        13\n",
      "           8       0.59      0.63      0.61        27\n",
      "           9       0.67      0.63      0.65        19\n",
      "          10       0.64      0.72      0.68        32\n",
      "          11       0.45      0.45      0.45        22\n",
      "          12       0.81      0.70      0.75        30\n",
      "          13       0.63      0.41      0.50        29\n",
      "          14       0.84      0.89      0.86        18\n",
      "          16       0.79      0.81      0.80        90\n",
      "          17       0.79      0.73      0.76        86\n",
      "          19       0.69      0.82      0.75       103\n",
      "          21       0.65      0.73      0.69        44\n",
      "\n",
      "    accuracy                           0.71       612\n",
      "   macro avg       0.68      0.65      0.66       612\n",
      "weighted avg       0.71      0.71      0.70       612\n",
      "\n"
     ]
    }
   ],
   "source": [
    "knn = KNeighborsClassifier(n_neighbors=1)\n",
    "y_true_agg, y_pred_agg = TrainUtils.kfold_train_predict(knn, full_df, num_splits=5)\n",
    "print(sklearn.metrics.classification_report(y_true_agg, y_pred_agg))"
   ]
  },
  {
   "cell_type": "code",
   "execution_count": 126,
   "metadata": {},
   "outputs": [
    {
     "name": "stdout",
     "output_type": "stream",
     "text": [
      "Confusion Matrix\n"
     ]
    },
    {
     "data": {
      "image/png": "[encoded data removed]",
      "text/plain": [
       "<Figure size 432x288 with 2 Axes>"
      ]
     },
     "metadata": {
      "needs_background": "light"
     },
     "output_type": "display_data"
    }
   ],
   "source": [
    "fig,ax = plt.subplots()\n",
    "ax = sns.heatmap(sklearn.metrics.confusion_matrix(y_true_agg, y_pred_agg, labels=use_subjs, normalize='true'), ax=ax)\n",
    "ax.set_xlabel('Predicted')\n",
    "ax.set_ylabel('Truth')\n",
    "print('Confusion Matrix')\n",
    "\n",
    "fig.savefig('images/confusion_matrix_3d.png')"
   ]
  },
  {
   "cell_type": "markdown",
   "metadata": {},
   "source": [
    "This confusion matrix looks solid."
   ]
  },
  {
   "cell_type": "markdown",
   "metadata": {
    "pycharm": {
     "name": "#%% md\n"
    }
   },
   "source": []
  }
 ],
 "metadata": {
  "kernelspec": {
   "display_name": "venv382",
   "language": "python",
   "name": "venv382"
  },
  "language_info": {
   "codemirror_mode": {
    "name": "ipython",
    "version": 3
   },
   "file_extension": ".py",
   "mimetype": "text/x-python",
   "name": "python",
   "nbconvert_exporter": "python",
   "pygments_lexer": "ipython3",
   "version": "3.8.2"
  }
 },
 "nbformat": 4,
 "nbformat_minor": 4
}
